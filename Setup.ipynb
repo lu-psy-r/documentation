{
  "cells": [
    {
      "cell_type": "raw",
      "metadata": {},
      "source": [
        "---\n",
        "title: \"Server Setup\"\n",
        "author: Matthew Ivory\n",
        "---"
      ],
      "id": "3399de54"
    },
    {
      "cell_type": "markdown",
      "metadata": {},
      "source": [
        "# Single Sign On (SSO)\n",
        "\n",
        "Users are authenticated via SSO, which relies upon the University's IdP. If there are issues with users unable to sign in to the server, first ensure that general sign in via CoSign works (e.g. Moodle/Portal). It is more likely there is an issue with the Workbench configuration than the university CoSign. This is a difficult configuration and so this may become a complex section.\n",
        "\n",
        "## Configuration files\n",
        "\n",
        "The SSO is *enabled* in `/etc/rstudio/rserver.conf` with the \n",
        "\n",
        "\n",
        "```{bash}\n",
        "#auth-saml sets SSO for login\n",
        "auth-saml=1\n",
        "#point to the IdP (contact Steve Bennett if any issues with SSO Auth)\n",
        "#auth-saml-metadata-url=https://idp-test.lancs.ac.uk/idp/shibboleth\n",
        "auth-saml-metadata-url=https://idp.lancs.ac.uk/idp/shibboleth\n",
        "#the below resolves to the correct host, not localhost\n",
        "auth-saml-sp-base-uri=https://psy-rstudio.lancaster.ac.uk\n",
        "#this unfriendly line refers to the specific attribute for uid\n",
        "#or user id, which is needed to map SSO to PAM.\n",
        "auth-saml-sp-attribute-username=urn:oid:0.9.2342.19200300.100.1.1\n",
        "auth-saml-idp-post-binding=1\n",
        "```\n",
        "\n",
        "\n",
        "\n",
        "# SSL\n",
        "\n",
        "# Quotas"
      ],
      "id": "4fbdfe12"
    }
  ],
  "metadata": {
    "kernelspec": {
      "name": "python3",
      "language": "python",
      "display_name": "Python 3 (ipykernel)"
    }
  },
  "nbformat": 4,
  "nbformat_minor": 5
}